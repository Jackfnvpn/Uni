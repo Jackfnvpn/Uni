{
 "cells": [
  {
   "cell_type": "markdown",
   "id": "ad126787-d3d6-447b-ab6d-5028c5710b66",
   "metadata": {},
   "source": [
    "# k-Nearest Neighbors (KNN)\n",
    "\n",
    "Classifica un punto $x$ in base alla alle etichette dei $k$ vicini più prossimi nel dataset etichettato. L'etichetta assegnata a $x$ sarà quella più frequente tra le $k$.\n",
    "\n",
    "Non c'è apprendimento. Risulta essere molto semplice ed efficace ma la classificazione è costosa. Inoltre richiede la memorizzazione dell'intero dataset di apprendimento."
   ]
  },
  {
   "cell_type": "markdown",
   "id": "b2e82bfc-7e3a-4e9a-b60f-c0514e925cb1",
   "metadata": {},
   "source": [
    "## Codifica\n",
    "\n",
    "Il fitting consiste nel memorizzare i dati etichettati. Il `predict` richiede la ricerca dei $k$ vicini più prossimi rispetto ad una funzione distanza che di default è quella euclidea; si usa una variante del *selection sort* che garantisce complessità lineare nella dimensione del dataset di apprendimento (se si assume $k$ costante). Questa può diventare logaritmica se si usano strutture dati ad albero binario per memorizzare gli esempi del dataset di apprendimento (ad esempio di kd-tree)."
   ]
  },
  {
   "cell_type": "code",
   "execution_count": 1,
   "id": "8e777dfa-a55c-4e08-ae53-2512e1c45ddb",
   "metadata": {},
   "outputs": [],
   "source": [
    "import os\n",
    "import pandas as pd\n",
    "import numpy as np"
   ]
  },
  {
   "cell_type": "code",
   "execution_count": 2,
   "id": "e47df24f-db98-45bf-b9ef-4201b58511dc",
   "metadata": {},
   "outputs": [],
   "source": [
    "def argselection(a, x, k = None, key = None):\n",
    "    '''\n",
    "    input: a, una sequenza; x un oggetto, k un intero; key una funzione dei valori di a e x\n",
    "    \n",
    "    restituisce un array con i primi k elementi di a in ordine di grandezza rispetto\n",
    "    alla funzione key\n",
    "\n",
    "    se k non indicato, viene usata per k la dimensione dell'array\n",
    "\n",
    "    se key non indicato, viene usata la funzione identità \n",
    "    '''\n",
    "    if k == None:\n",
    "        k = len(a)\n",
    "    if key == None:\n",
    "        key = lambda y, _: y\n",
    "    arg_sel_array = []\n",
    "    for i in range(k):\n",
    "        m = None\n",
    "        for j in range(len(a)):\n",
    "            if m == None or key(a[j], x) < key(a[m], x):\n",
    "                if j not in arg_sel_array:\n",
    "                    m = j\n",
    "        arg_sel_array.append(m)\n",
    "            \n",
    "    return np.array(arg_sel_array)\n",
    "        \n",
    "def mode( a ):\n",
    "    '''\n",
    "    parametro: a, un array-like\n",
    "\n",
    "    return: l'elemento più frequente ed il numero di occorrenze\n",
    "    '''\n",
    "\n",
    "    itms, cnts = np.unique(np.array(a), return_counts=True )\n",
    "\n",
    "    return itms[np.argmax(cnts)], max(cnts)\n",
    "\n",
    "def euclidean_dist(a0, a1):\n",
    "    return np.linalg.norm(a0 - a1)\n",
    "\n",
    "class KNN(object):\n",
    "    def __init__(self, k = 5, distance = None):\n",
    "        self.k = k\n",
    "        if distance == None:\n",
    "            self._dist = euclidean_dist\n",
    "        else:\n",
    "            self._dist = distance\n",
    "    \n",
    "    def fit(self, X, y):\n",
    "        self.X = X\n",
    "        self.y = y\n",
    "        \n",
    "    def predict(self, x):        \n",
    "        # Ottiene gli indici dei k punti più vicini\n",
    "        k_indices = argselection(self.X, x, k=5, key = self._dist)\n",
    "        \n",
    "        # Prende le etichette corrispondenti\n",
    "        return mode(self.y[k_indices])\n",
    "    "
   ]
  },
  {
   "cell_type": "code",
   "execution_count": 3,
   "id": "7ecf0813-017e-4759-9054-854652e9f733",
   "metadata": {},
   "outputs": [],
   "source": [
    "s = os.path.join('dataset', 'iris.data')\n",
    "df = pd.read_csv(s,\n",
    "                 header=None,\n",
    "                 encoding='utf-8')\n",
    "\n",
    "\n",
    "X = df.iloc[:, [0, 1, 2, 3]].values\n",
    "y = df.iloc[:, 4].values\n",
    "\n",
    "X_std = (X-X.mean(0))/X.std(0)"
   ]
  },
  {
   "cell_type": "code",
   "execution_count": 4,
   "id": "b655b99c-f0e2-4f72-b037-1f66bbb9c44c",
   "metadata": {},
   "outputs": [],
   "source": [
    "n = X_std.shape[0]\n",
    "train_set_size = int(n*0.8)\n",
    "test_set_size = n - train_set_size\n",
    "\n",
    "np.random.seed(10)\n",
    "filter = np.array([True]*train_set_size+[False]*test_set_size)\n",
    "np.random.shuffle(filter)\n",
    "\n",
    "X_train, y_train = X_std[filter], y[filter]\n",
    "X_test, y_test = X_std[~filter], y[~filter]"
   ]
  },
  {
   "cell_type": "code",
   "execution_count": 5,
   "id": "27271330-99a3-4eba-a66e-f69b02cd0d9a",
   "metadata": {},
   "outputs": [
    {
     "name": "stdout",
     "output_type": "stream",
     "text": [
      "Accuratezza  0.9666666666666667\n"
     ]
    }
   ],
   "source": [
    "knn = KNN()\n",
    "knn.fit(X_train, y_train)\n",
    "\n",
    "preds = np.array([knn.predict(x)[0] for x in X_test]) == y_test\n",
    "print('Accuratezza ', preds.sum()/preds.shape[0])"
   ]
  }
 ],
 "metadata": {
  "kernelspec": {
   "display_name": "Python 3 (ipykernel)",
   "language": "python",
   "name": "python3"
  },
  "language_info": {
   "codemirror_mode": {
    "name": "ipython",
    "version": 3
   },
   "file_extension": ".py",
   "mimetype": "text/x-python",
   "name": "python",
   "nbconvert_exporter": "python",
   "pygments_lexer": "ipython3",
   "version": "3.11.2"
  }
 },
 "nbformat": 4,
 "nbformat_minor": 5
}
