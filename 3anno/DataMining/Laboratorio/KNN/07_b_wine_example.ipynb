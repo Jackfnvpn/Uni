{
 "cells": [
  {
   "cell_type": "code",
   "execution_count": 1,
   "id": "f79f0270-a5fe-42f0-ada0-2ba5e99a20b3",
   "metadata": {},
   "outputs": [],
   "source": [
    "import numpy as np\n",
    "from os.path import join\n",
    "import random as rn\n",
    "import time\n",
    "from modules.foresta_casuale import RandomForest\n",
    "from modules.knn import KNN"
   ]
  },
  {
   "cell_type": "code",
   "execution_count": 2,
   "id": "a963b1a4-7254-4704-98a8-a20c478bebcf",
   "metadata": {},
   "outputs": [],
   "source": [
    "wine_ds = np.genfromtxt(join('dataset', 'wine', 'wine.data'), delimiter=',', skip_header=0)\n",
    "\n",
    "X, y = wine_ds[:, 1:], wine_ds[:, 0] "
   ]
  },
  {
   "cell_type": "code",
   "execution_count": 3,
   "id": "acd012ce-75bc-441e-8173-2ef489816d6d",
   "metadata": {},
   "outputs": [
    {
     "name": "stdout",
     "output_type": "stream",
     "text": [
      "[1. 2. 3.] [59 71 48]\n"
     ]
    }
   ],
   "source": [
    "itms, cnts = np.unique(np.array(y), return_counts=True )\n",
    "print(itms, cnts)"
   ]
  },
  {
   "cell_type": "markdown",
   "id": "d0a88572-c313-4010-9d1f-9b4d3427a357",
   "metadata": {},
   "source": [
    "Istanza sbilanciata, si procede all'*undersamling*."
   ]
  },
  {
   "cell_type": "code",
   "execution_count": 4,
   "id": "724cc843-b4f5-42a4-810d-0cc16fdcf6c8",
   "metadata": {},
   "outputs": [],
   "source": [
    "fltr = [True]*48+[False]*11 + [True]*48+[False]*23 + [True]*48\n",
    "X_under, y_under = X[fltr], y[fltr]"
   ]
  },
  {
   "cell_type": "code",
   "execution_count": 5,
   "id": "e36a3fab-1fb9-41de-a9e2-a6c922c36cef",
   "metadata": {},
   "outputs": [
    {
     "name": "stdout",
     "output_type": "stream",
     "text": [
      "[1. 2. 3.] [48 48 48]\n"
     ]
    }
   ],
   "source": [
    "itms, cnts = np.unique(np.array(y_under), return_counts=True )\n",
    "print(itms, cnts)"
   ]
  },
  {
   "cell_type": "markdown",
   "id": "f034234d-145b-4bd1-a294-ae87e7ae6f9b",
   "metadata": {},
   "source": [
    "Standardizzazione"
   ]
  },
  {
   "cell_type": "code",
   "execution_count": 6,
   "id": "24d54f82-5760-4b91-808f-904282be4235",
   "metadata": {},
   "outputs": [],
   "source": [
    "X_std=(X_under-X_under.mean(0))/X_under.std(0)"
   ]
  },
  {
   "cell_type": "code",
   "execution_count": 7,
   "id": "c18095d7-0c09-4a54-b153-0dedb4786635",
   "metadata": {},
   "outputs": [],
   "source": [
    "def train_test_split(X, y, train_ratio = 0.8, random_seed = 0):\n",
    "    '''\n",
    "    Split arrays X and y into random train and test subsets.\n",
    "\n",
    "    Parameters:\n",
    "        X (np.ndarray): Feature matrix.\n",
    "        y (np.ndarray): Label array.\n",
    "        train_ratio (float): Proportion of data to include in the train split.\n",
    "        random_seed (int): Seed for reproducibility.\n",
    "\n",
    "    Returns:\n",
    "        X_train, y_train, X_test, y_test (np.ndarray): Split datasets.\n",
    "    '''\n",
    "    n = X.shape[0]\n",
    "    train_set_size = int(n*train_ratio)\n",
    "    test_set_size = n - train_set_size\n",
    "    \n",
    "    np.random.seed(random_seed)\n",
    "    fltr = np.array([True]*train_set_size+[False]*test_set_size)\n",
    "    np.random.shuffle(fltr)\n",
    "    \n",
    "    return X[fltr], y[fltr], X[~fltr], y[~fltr]\n",
    "\n",
    "def accuracy(X, y, f):\n",
    "    \"\"\"\n",
    "    Compute the accuracy of a classifier.\n",
    "\n",
    "    Parameters:\n",
    "        X (np.ndarray): Feature matrix.\n",
    "        y (np.ndarray): True labels.\n",
    "        f (callable): Prediction function that takes a sample x and returns a label.\n",
    "\n",
    "    Returns:\n",
    "        float: Accuracy score.\n",
    "    \"\"\"\n",
    "    preds = np.array([f(x) for x in X]) == y\n",
    "    return preds.sum()/preds.shape[0]"
   ]
  },
  {
   "cell_type": "code",
   "execution_count": 8,
   "id": "525580c4-6147-441a-b7d5-1d745249d822",
   "metadata": {},
   "outputs": [],
   "source": [
    "X_train, y_train, X_test, y_test = train_test_split(X_std, y_under)"
   ]
  },
  {
   "cell_type": "markdown",
   "id": "4825899d-e2bd-4601-844f-34a408407101",
   "metadata": {},
   "source": [
    "## Foreste casuali"
   ]
  },
  {
   "cell_type": "code",
   "execution_count": 9,
   "id": "8b0c0050-d765-44cc-a3ff-c38d43450c40",
   "metadata": {},
   "outputs": [
    {
     "name": "stdout",
     "output_type": "stream",
     "text": [
      "Tempo di addestramento  1.4 secs\n",
      "Accuratezza su insieme di addestramento 1.0\n",
      "Accuratezza su esempi out-of-bag 0.8818181818181818\n",
      "Accuratezza su insieme di test 1.0\n",
      "Tempo di test  0.0 secs\n"
     ]
    }
   ],
   "source": [
    "start_time = time.time()\n",
    "rf = RandomForest(max_feat_func=lambda x: x//2, max_depth=5, n_trees = 7)\n",
    "rf.fit(X_train,y_train)\n",
    "finish_time = time.time()\n",
    "\n",
    "print(f\"Tempo di addestramento {finish_time-start_time: .1f} secs\"); \n",
    "\n",
    "print('Accuratezza su insieme di addestramento', accuracy(X_train, y_train, lambda x: rf.predict(x)[0]) )\n",
    "print('Accuratezza su esempi out-of-bag', rf.get_accuracy())\n",
    "\n",
    "start_time = time.time()\n",
    "print('Accuratezza su insieme di test', accuracy(X_test, y_test, lambda x: rf.predict(x)[0]))\n",
    "finish_time = time.time()\n",
    "print(f\"Tempo di test {finish_time-start_time: .1f} secs\"); "
   ]
  },
  {
   "cell_type": "markdown",
   "id": "ab6563bf-dba5-4720-8d0e-9f55317efa9b",
   "metadata": {},
   "source": [
    "## k-Nearest neighbors"
   ]
  },
  {
   "cell_type": "code",
   "execution_count": 10,
   "id": "aef06fce-324f-4d84-b198-7b469494d5fa",
   "metadata": {},
   "outputs": [
    {
     "name": "stdout",
     "output_type": "stream",
     "text": [
      "Tempo di addestramento  0.0 secs\n",
      "Accuratezza  0.896551724137931\n",
      "Tempo di test  0.2 secs\n"
     ]
    }
   ],
   "source": [
    "start_time = time.time()\n",
    "knn = KNN()\n",
    "knn.fit(X_train, y_train)\n",
    "finish_time = time.time()\n",
    "print(f\"Tempo di addestramento {finish_time-start_time: .1f} secs\");\n",
    "\n",
    "start_time = time.time()\n",
    "print('Accuratezza ', accuracy(X_test, y_test, lambda x: knn.predict(x)[0]))\n",
    "finish_time = time.time()\n",
    "print(f\"Tempo di test {finish_time-start_time: .1f} secs\");"
   ]
  }
 ],
 "metadata": {
  "kernelspec": {
   "display_name": "Python 3 (ipykernel)",
   "language": "python",
   "name": "python3"
  },
  "language_info": {
   "codemirror_mode": {
    "name": "ipython",
    "version": 3
   },
   "file_extension": ".py",
   "mimetype": "text/x-python",
   "name": "python",
   "nbconvert_exporter": "python",
   "pygments_lexer": "ipython3",
   "version": "3.11.2"
  }
 },
 "nbformat": 4,
 "nbformat_minor": 5
}
