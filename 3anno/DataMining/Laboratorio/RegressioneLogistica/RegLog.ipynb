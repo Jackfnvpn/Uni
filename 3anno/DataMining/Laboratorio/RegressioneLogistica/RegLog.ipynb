{
 "cells": [
  {
   "cell_type": "markdown",
   "id": "78cd0962",
   "metadata": {},
   "source": [
    "# Regressione Logistica\n",
    "Abbiamo la necessità di introdurre un nuovo modello per la classificazione binaria in quanto il Perceptron non converge mai se l'istanza non è separabile.\n",
    "\n",
    "### DEF\n",
    "\n",
    "Definiamo \n",
    "$$P=Pr(y=1|\\bold{x})$$\n",
    "\n",
    "la probabilità condizionata dell'evento $\\bold{x}$ appartiene alla classe $1$.\n",
    "\n",
    "### DEF  \n",
    "\n",
    "Definiamo come rapporto probabilistico:\n",
    "\n",
    "$$\\text{odd}=\\frac{p}{1-p}\\in [ 0,+\\infty )$$\n",
    "\n",
    "### DEF\n",
    "\n",
    "Definiamo la funzione:\n",
    "\n",
    "$$\\text{logit}(p)=ln(\\frac{p}{1-p})\\in (-\\infty,+\\infty)$$\n",
    "\n",
    "La funzione manda i valori nel suo dominio a valori lungo l'intervallo di numeri reali, che possiamo utilizzare per esprimere una relazione lineare fra i valori delle caratteristiche e log-odds:\n",
    "\n",
    "$$\\text{logit}(P)=\\bold{w}\\cdot \\bold{x}$$\n",
    "\n",
    "Qui $P$ è la probabilità condizionata che un determinato campione appartenga alla classe $1$ sulla base delle sue caratteristiche $\\bold{x}$.\n",
    "Ora quello che ci interessa è prevedere la probabilità che un determinato campione appartenga a una determinata classe che è la forma inversa della funzione $\\text{logit}$. Ovvero la funzione *sigmoide*:\n",
    "\n",
    "$$e^{w\\cdot x}=\\frac{p}{1-p}\\iff (1-p)e^{w\\cdot x}=p \\iff e^{w\\cdot x}-pe^{w\\cdot x}=p\\iff p(1+e^{w\\cdot x})=e^{w\\cdot x}\\iff p=\\frac{e^{w\\cdot x}}{1+e^{w\\cdot x}}=\\frac{1}{1+e^{-w\\cdot x}}$$\n",
    "\n",
    "Dunque \n",
    "\n",
    "$$\\phi(z)=\\frac{1}{1+e^{-z}}$$\n",
    "\n",
    "Ove $z=\\bold{w}\\cdot \\bold{x}$\n",
    "\n",
    "Possiamo vedere che $\\phi(z)$ si avvicina a $1$ se $z \\rightarrow \\infty$ e si avvicina a $0$ se $z \\rightarrow -\\infty$. Pertanto questa funzione manda valori reali in $[0,1]$, con un'intercettazione a $\\phi(z)=0.5$. La funzione di attivazione nella regressione logistica è dunque la funzione sigmoide.\n",
    "\n",
    "La probabilità prevista può essere poi convertita attraverso un quantizzatore:\n",
    "\n",
    "$$\\begin{cases}\n",
    "    1 & \\text{ se } \\phi(z)\\geq 0.5 \\\\\n",
    "    0 & \\text{ altrimenti }\n",
    "\\end{cases}$$\n",
    "\n"
   ]
  },
  {
   "cell_type": "markdown",
   "id": "47d69bfc",
   "metadata": {},
   "source": [
    "Deriviamo ora la funzione di costo. Per farlo definiamo la probabilità $L$ che vogliamo massimizzare.\n",
    "\n",
    "$$L(\\bold{w})=P(\\bold{y}|\\bold{x;w})=\\prod_{i=1}^n P(y^{(i)}|x^{(i)};\\bold{w})=\\prod_{i=1}^n \\phi(\\bold{z}^{(i)}\\bold{w})^{y^{(i)}}\\cdot (1-\\phi(\\bold{z}^{(i)}\\bold{w}))^{1-y^{(i)}}$$\n",
    "\n",
    "E' molto più facile massimizzare il logaritmo di questa equazione:\n",
    "\n",
    "$$l(\\bold{w})=\\log(L(\\bold{w}))=\\sum_{i=1}^n \\log(\\phi(z^{(i)}))+(1-y^{(i)})\\log(1-\\phi(z^{(i)}))$$\n",
    "\n",
    "Ora possiamo utilizzare un algoritmo di ottimizzazione come quello a discesa del gradiente oppure proprio quest'ultimo a patto di riscrivere la funzione $l(\\bold{w})$ come una funzione $J(\\bold{w})$ che può essere minimizzata con la discesa del gradiente.\n",
    "\n",
    "Dunque:\n",
    "\n",
    "$$J(\\bold{w})=-l(\\bold{w})=\\sum_{i=1}^n -\\log(\\phi(z^{(i)}))-(1-y^{(i)})\\log(1-\\phi(z^{(i)}))$$\n",
    "\n",
    "Ora la regola di aggiornamento della discesa del gradiente è:\n",
    "$$w \\leftarrow w + \\eta \\nabla J(\\bold{w})$$\n",
    "\n",
    "e nel nostro caso è dunque \n",
    "\n",
    "$$w\\leftarrow w+\\eta X^T \\cdot \\bold{err}$$"
   ]
  },
  {
   "cell_type": "code",
   "execution_count": 2,
   "id": "7583fce5",
   "metadata": {},
   "outputs": [],
   "source": [
    "from matplotlib.colors import ListedColormap\n",
    "import numpy as np\n",
    "import matplotlib.pyplot as plt\n",
    "import pandas as pd\n",
    "import os\n",
    "\n",
    "\n",
    "def plot_decision_regions(X, y, classifier, resolution=0.02):\n",
    "\n",
    "    # setup marker generator and color map\n",
    "    markers = ('s', '*', 'o', '^', 'v', '*')\n",
    "    colors = ('red', 'blue', 'lightgreen', 'gray', 'cyan')\n",
    "    cmap = ListedColormap(colors[:len(np.unique(y))])\n",
    "\n",
    "    # plot the decision surface\n",
    "    x1_min, x1_max = X[:, 0].min() - 1, X[:, 0].max() + 1\n",
    "    x2_min, x2_max = X[:, 1].min() - 1, X[:, 1].max() + 1\n",
    "    xx1, xx2 = np.meshgrid(np.arange(x1_min, x1_max, resolution),\n",
    "                           np.arange(x2_min, x2_max, resolution))\n",
    "    Z = classifier.predict(np.array([xx1.ravel(), xx2.ravel()]).T)\n",
    "    Z = Z.reshape(xx1.shape)\n",
    "    plt.contourf(xx1, xx2, Z, alpha=0.3, cmap=cmap)\n",
    "    plt.xlim(xx1.min(), xx1.max())\n",
    "    plt.ylim(xx2.min(), xx2.max())\n",
    "\n",
    "    # plot class examples\n",
    "    for idx, cl in enumerate(np.unique(y)):\n",
    "        plt.scatter(x=X[y == cl, 0], \n",
    "                    y=X[y == cl, 1],\n",
    "                    alpha=0.8, \n",
    "                    c=colors[idx],\n",
    "                    marker=markers[idx], \n",
    "                    label=cl, \n",
    "                    edgecolor='black')"
   ]
  },
  {
   "cell_type": "markdown",
   "id": "0d732ac6",
   "metadata": {},
   "source": [
    "## Discesa del gradiente stocastica\n",
    "La versione che conosciamo dell'algoritmo è detta *batch* in quanto calcola il gradiente tutto in una volta.\n",
    "\n",
    "#### Criticità dell'algoritmo di discesa del gradiente:\n",
    "\n",
    "L'aggiornamento dei pesi viene fatto nel seguente modo\n",
    "\n",
    "```python\n",
    "self.w_[1:] += self.eta * X.T.dot(errors)\n",
    "\n",
    "# il che richiede l'intera matrice X che, nel caso questa sia molto grande, può rappresentare un problema di performance.\n",
    "# Con la discesa del gradiente stocastica, i pesi vengono aggiornati uno alla volta nel seguente modo:\n",
    "\n",
    "for xj, yj in zip(X, y):\n",
    "                net_input = self.net_input(xj)\n",
    "                output = self.activation(net_input)\n",
    "                error = (yj - output)\n",
    "                self.w_[1:] += self.eta * xj*error\n",
    "```\n",
    "\n",
    "Il che non richiede la presenza dell'intera matrice $X$ in memoria. Inoltre questo approccio permette anche l'addestramento on-line: il fitting può continuare con l'arrivo di altri dati di addestramento."
   ]
  },
  {
   "cell_type": "markdown",
   "id": "7b7b01cb",
   "metadata": {},
   "source": [
    "## Classe Regressione Logistica"
   ]
  },
  {
   "cell_type": "code",
   "execution_count": 3,
   "id": "2c1afb0a",
   "metadata": {},
   "outputs": [],
   "source": [
    "class LogisticRegression(object):\n",
    "\n",
    "    def __init__(self, eta=0.05, n_iter=50, random_state=1, fit=\"sfit\", tol=1e-4):\n",
    "        self.eta = eta\n",
    "        self.n_iter = n_iter\n",
    "        self.random_state = random_state\n",
    "        self.fit_method = fit\n",
    "        self.last_cost = None\n",
    "        self.tol = tol\n",
    "        self.verbose = True\n",
    "        \n",
    "    def fit(self, X, y):\n",
    "        if self.fit_method == 'sfit':\n",
    "            return self.sfit(X, y)\n",
    "        elif self.fit_method == 'bfit':\n",
    "            return self.bfit(X, y)\n",
    "        else:\n",
    "            raise ValueError('I metodi accettati sono bfit e sfit')\n",
    "        \n",
    "\n",
    "    def bfit(self, X, y):\n",
    "\n",
    "        rgen = np.random.RandomState(self.random_state)\n",
    "        self.w_ = rgen.normal(loc=0.0, scale=0.01, size=1 + X.shape[1])\n",
    "   \n",
    "        for i in range(self.n_iter):\n",
    "            net_input = self.net_input(X)\n",
    "            output = self.activation(net_input)\n",
    "            epsilon = 1e-15\n",
    "            output = np.clip(output, epsilon, 1 - epsilon)\n",
    "            errors = (y - output)\n",
    "            self.w_[1:] += self.eta * X.T.dot(errors)\n",
    "            self.w_[0] += self.eta * errors.sum()\n",
    "            \n",
    "            # note that we compute the logistic `cost` now\n",
    "            # instead of the sum of squared errors cost\n",
    "            \n",
    "            cost = -y.dot(np.log(output)) - ((1 - y).dot(np.log(1 - output)))\n",
    "            if self.last_cost != None and abs(cost - self.last_cost) < self.tol:\n",
    "                if self.verbose:\n",
    "                    print('Num. iterations', i)\n",
    "                break\n",
    "            self.last_cost = cost\n",
    "        \n",
    "        return self\n",
    "        \n",
    "    def sfit(self, X, y):\n",
    "      \n",
    "        rgen = np.random.RandomState(self.random_state)\n",
    "        self.w_ = rgen.normal(loc=0.0, scale=0.01, size=1 + X.shape[1])\n",
    "\n",
    "\n",
    "        for i in range(self.n_iter):\n",
    "            cost = 0\n",
    "            for xj, yj in zip(X, y):\n",
    "                net_input = self.net_input(xj)\n",
    "                output = self.activation(net_input)\n",
    "                error = (yj - output)\n",
    "                self.w_[1:] += self.eta * xj*error\n",
    "                self.w_[0] += self.eta * error\n",
    "            \n",
    "                # note that we compute the logistic `cost` now\n",
    "                # instead of the sum of squared errors cost\n",
    "                \n",
    "                cost += -yj*(np.log(output)) - ((1 - yj)*(np.log(1 - output)))\n",
    "                if self.last_cost != None and abs(cost - self.last_cost) < self.tol:\n",
    "                    if self.verbose:\n",
    "                        print('Num. iterations', i)\n",
    "                    return self\n",
    "                \n",
    "                self.last_cost = cost\n",
    "        \n",
    "        return self\n",
    "    \n",
    "    def net_input(self, X):\n",
    "        \"\"\"Calculate net input\"\"\"\n",
    "        return np.dot(X, self.w_[1:]) + self.w_[0]\n",
    "\n",
    "    def activation(self, z):\n",
    "        \"\"\"Compute logistic sigmoid activation\"\"\"\n",
    "        return 1. / (1. + np.exp(-np.clip(z, -700, 700)))\n",
    "        #return 1. / (1. + np.exp(-z))\n",
    "\n",
    "    def predict(self, X):\n",
    "        \"\"\"Return class label after unit step\"\"\"\n",
    "        return np.where(self.net_input(X) >= 0.0, 1, 0)\n",
    "        # equivalent to:\n",
    "        # return np.where(self.activation(self.net_input(X)) >= 0.5, 1, 0)"
   ]
  },
  {
   "cell_type": "markdown",
   "id": "f83454d3",
   "metadata": {},
   "source": [
    "# Creazione Datframe"
   ]
  },
  {
   "cell_type": "code",
   "execution_count": null,
   "id": "0c617df5",
   "metadata": {},
   "outputs": [],
   "source": [
    "s = os.path.join('dataset', 'iris.data')\n",
    "df = pd.read_csv(s,\n",
    "                 header=None,\n",
    "                 encoding='utf-8')\n",
    "\n",
    "\n",
    "# [0:50] iris-setosa\n",
    "# [50:100] iris-versicolor\n",
    "# [100:150] iris-virginica\n",
    "\n",
    "y = df.iloc[50:, 4].values\n",
    "y = np.where(y == 'Iris-versicolor', 1, 0)\n",
    "# extract sepal length and petal length\n",
    "X = df.iloc[50:, [0, 2]].values\n"
   ]
  },
  {
   "cell_type": "markdown",
   "id": "f30b76c0",
   "metadata": {},
   "source": [
    "# Esempi\n",
    "### Versione Batch"
   ]
  },
  {
   "cell_type": "markdown",
   "id": "3fb2cad0",
   "metadata": {},
   "source": []
  },
  {
   "cell_type": "markdown",
   "id": "8d28d0bd",
   "metadata": {},
   "source": []
  },
  {
   "cell_type": "markdown",
   "id": "61938a7c",
   "metadata": {},
   "source": []
  },
  {
   "cell_type": "code",
   "execution_count": 5,
   "id": "76f3b88e",
   "metadata": {},
   "outputs": [
    {
     "name": "stdout",
     "output_type": "stream",
     "text": [
      "Batch\n",
      " \tAccuratezza: 0.9 \n",
      "\tSecondi: 0.04488348960876465\n"
     ]
    },
    {
     "data": {
      "text/plain": [
       "<matplotlib.legend.Legend at 0x24e610b2a50>"
      ]
     },
     "execution_count": 5,
     "metadata": {},
     "output_type": "execute_result"
    },
    {
     "data": {
      "image/png": "[encoded data removed]",
      "text/plain": [
       "<Figure size 640x480 with 1 Axes>"
      ]
     },
     "metadata": {},
     "output_type": "display_data"
    }
   ],
   "source": [
    "from time import time\n",
    "\n",
    "start_time = time()\n",
    "lgrg = LogisticRegression(n_iter=1000, eta=0.0001, random_state=1, fit='bfit').fit(X, y)\n",
    "end_time = time()\n",
    "accuracy = np.mean(lgrg.predict(X) == y)\n",
    "print('Batch\\n', '\\tAccuratezza:', accuracy, '\\n\\tSecondi:', end_time-start_time)\n",
    "\n",
    "plot_decision_regions(X, y, classifier=lgrg)\n",
    "\n",
    "plt.xlabel('sepal length [cm]')\n",
    "plt.ylabel('petal length [cm]')\n",
    "plt.legend(loc='upper left')"
   ]
  },
  {
   "cell_type": "markdown",
   "id": "c8d05643",
   "metadata": {},
   "source": [
    "### Versione stocastica"
   ]
  },
  {
   "cell_type": "code",
   "execution_count": 6,
   "id": "027b89bb",
   "metadata": {},
   "outputs": [
    {
     "name": "stdout",
     "output_type": "stream",
     "text": [
      "Batch\n",
      " \tAccuratezza: 0.9 \n",
      "\tSecondi: 1.1474838256835938\n"
     ]
    },
    {
     "data": {
      "text/plain": [
       "<matplotlib.legend.Legend at 0x24e611e4190>"
      ]
     },
     "execution_count": 6,
     "metadata": {},
     "output_type": "execute_result"
    },
    {
     "data": {
      "image/png": "[encoded data removed]",
      "text/plain": [
       "<Figure size 640x480 with 1 Axes>"
      ]
     },
     "metadata": {},
     "output_type": "display_data"
    }
   ],
   "source": [
    "start_time = time()\n",
    "lgrg = LogisticRegression(n_iter=1000, eta=0.0001, random_state=1, fit='sfit').fit(X, y)\n",
    "end_time = time()\n",
    "accuracy = np.mean(lgrg.predict(X) == y)\n",
    "print('Batch\\n', '\\tAccuratezza:', accuracy, '\\n\\tSecondi:', end_time-start_time)\n",
    "\n",
    "plot_decision_regions(X, y, classifier=lgrg)\n",
    "\n",
    "plt.xlabel('sepal length [cm]')\n",
    "plt.ylabel('petal length [cm]')\n",
    "plt.legend(loc='upper left')"
   ]
  },
  {
   "cell_type": "markdown",
   "id": "0f499e81",
   "metadata": {},
   "source": [
    "# Standardizzazione\n",
    "Livella i valori delle features portandole tutte sulla stessa scala, questo elimina il problema delle features troppo influenti in quanto su scale maggiori rispetto alle altre.\n",
    "\n",
    "Sia $x$ un vettore delle features di media $\\mu$ e deviazione standard $\\sigma$ allora la z-score normalization\n",
    "\n",
    "$$ x' = \\frac{x-\\mu}{\\sigma} $$\n",
    "\n",
    "definisce una nuova feature che ha media $0$ e deviazione standard $1$."
   ]
  },
  {
   "cell_type": "code",
   "execution_count": 7,
   "id": "b23ae238",
   "metadata": {},
   "outputs": [],
   "source": [
    "'''\n",
    "X_std = np.copy(X)\n",
    "X_std[:, 0] = (X[:, 0] - X[:, 0].mean()) / X[:, 0].std()\n",
    "X_std[:, 1] = (X[:, 1] - X[:, 1].mean()) / X[:, 1].std()\n",
    "'''\n",
    "\n",
    "# oppure\n",
    "X_std = (X-X.mean(0))/X.std(0) # i valore 0 del parametri indica media e standard deviation sulle colonne"
   ]
  },
  {
   "cell_type": "code",
   "execution_count": 8,
   "id": "dbb65ec7",
   "metadata": {},
   "outputs": [
    {
     "name": "stdout",
     "output_type": "stream",
     "text": [
      "Batch, accuratezza 0.94 Secondi: 0.048931121826171875\n"
     ]
    }
   ],
   "source": [
    "X_curr = X_std\n",
    "\n",
    "start_time = time()\n",
    "lgrg = LogisticRegression(n_iter=1000, eta=0.001, random_state=1, fit='bfit').fit(X_curr, y)\n",
    "end_time = time()\n",
    "accuracy = np.mean(lgrg.predict(X_curr) == y)\n",
    "print('Batch, accuratezza', accuracy, 'Secondi:', end_time-start_time)"
   ]
  }
 ],
 "metadata": {
  "kernelspec": {
   "display_name": "Python 3",
   "language": "python",
   "name": "python3"
  },
  "language_info": {
   "codemirror_mode": {
    "name": "ipython",
    "version": 3
   },
   "file_extension": ".py",
   "mimetype": "text/x-python",
   "name": "python",
   "nbconvert_exporter": "python",
   "pygments_lexer": "ipython3",
   "version": "3.13.1"
  }
 },
 "nbformat": 4,
 "nbformat_minor": 5
}
